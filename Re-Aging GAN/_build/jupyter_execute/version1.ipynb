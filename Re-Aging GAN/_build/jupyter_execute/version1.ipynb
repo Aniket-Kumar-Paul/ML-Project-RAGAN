{
 "cells": [
  {
   "cell_type": "markdown",
   "id": "04cb5af5",
   "metadata": {},
   "source": [
    "# Version 1: Re-Aging GAN"
   ]
  },
  {
   "cell_type": "code",
   "execution_count": 1,
   "id": "50956a6d",
   "metadata": {},
   "outputs": [
    {
     "name": "stdout",
     "output_type": "stream",
     "text": [
      "Import Versions:-\n",
      "* TensorFlow: 2.9.2\n",
      "* TensorFlow Datasets: 4.6.0\n",
      "* TensorFlow Addons: 0.17.1\n",
      "* NumPy: 1.22.4\n",
      "* Pandas: 1.4.3\n",
      "* cv2: 4.6.0\n",
      "* Matplotlib: 3.5.2\n"
     ]
    }
   ],
   "source": [
    "import os\n",
    "os.environ['TF_CPP_MIN_LOG_LEVEL'] = '2'\n",
    "\n",
    "import tensorflow as tf\n",
    "import tensorflow.keras as keras\n",
    "from tensorflow.keras import layers, regularizers, initializers\n",
    "import tensorflow_datasets as tfds\n",
    "import tensorflow_addons as tfa\n",
    "\n",
    "import numpy as np\n",
    "import matplotlib.pyplot as plt\n",
    "import matplotlib\n",
    "import cv2\n",
    "import pandas as pd\n",
    "\n",
    "from tqdm import tqdm\n",
    "import warnings\n",
    "warnings.simplefilter('ignore')\n",
    "%matplotlib inline\n",
    "\n",
    "print(f'''Import Versions:-\n",
    "* TensorFlow: {tf.__version__}\n",
    "* TensorFlow Datasets: {tfds.__version__}\n",
    "* TensorFlow Addons: {tfa.__version__}\n",
    "* NumPy: {np.__version__}\n",
    "* Pandas: {pd.__version__}\n",
    "* cv2: {cv2.__version__}\n",
    "* Matplotlib: {matplotlib.__version__}''')"
   ]
  }
 ],
 "metadata": {
  "kernelspec": {
   "display_name": "tf_env",
   "language": "python",
   "name": "base"
  },
  "language_info": {
   "codemirror_mode": {
    "name": "ipython",
    "version": 3
   },
   "file_extension": ".py",
   "mimetype": "text/x-python",
   "name": "python",
   "nbconvert_exporter": "python",
   "pygments_lexer": "ipython3",
   "version": "3.9.13"
  },
  "toc": {
   "base_numbering": 1,
   "nav_menu": {},
   "number_sections": true,
   "sideBar": true,
   "skip_h1_title": false,
   "title_cell": "Table of Contents",
   "title_sidebar": "Contents",
   "toc_cell": false,
   "toc_position": {},
   "toc_section_display": true,
   "toc_window_display": false
  }
 },
 "nbformat": 4,
 "nbformat_minor": 5
}